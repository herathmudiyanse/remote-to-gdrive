{
  "nbformat": 4,
  "nbformat_minor": 0,
  "metadata": {
    "colab": {
      "name": "RemoteUpload.ipynb",
      "provenance": []
    },
    "kernelspec": {
      "name": "python3",
      "display_name": "Python 3"
    },
    "language_info": {
      "name": "python"
    }
  },
  "cells": [
    {
      "cell_type": "markdown",
      "source": [
        ""
      ],
      "metadata": {
        "id": "5ndLkKmnnpNp"
      }
    },
    {
      "cell_type": "markdown",
      "source": [
        "Mount Google drive"
      ],
      "metadata": {
        "id": "7wYl-h8pnmKm"
      }
    },
    {
      "cell_type": "code",
      "execution_count": null,
      "metadata": {
        "colab": {
          "base_uri": "https://localhost:8080/"
        },
        "id": "Z2sS9GaEcgXf",
        "outputId": "745f5992-9d5c-4427-b3e7-9c09c8da04da"
      },
      "outputs": [
        {
          "output_type": "stream",
          "name": "stdout",
          "text": [
            "Mounted at /content/gdrive\n"
          ]
        }
      ],
      "source": [
        "from google.colab import drive\n",
        "drive.mount( '/content/gdrive' )"
      ]
    },
    {
      "cell_type": "markdown",
      "source": [
        "You will ask \"File URL\" for the file url to be downloaded, and \"Directory\" for seperate directory for saving the file."
      ],
      "metadata": {
        "id": "GQa-zBZFnrH_"
      }
    },
    {
      "cell_type": "code",
      "source": [
        "import requests\n",
        "import os\n",
        "import time\n",
        "from urllib.parse import urlparse\n",
        "import sys\n",
        "from tqdm import tqdm\n",
        "\n",
        "file_url = input('File URl: ')\n",
        "directory = input('Directory: ')\n",
        "r = requests.get(file_url, stream=True)\n",
        "local_filename = urlparse(file_url.split('/')[-1]).path\n",
        "\n",
        "save_path = \"/content/gdrive/My Drive/REMOTEUPLOAD/\"+directory+\"/\"\n",
        "\n",
        "if not os.path.exists(save_path):\n",
        "\t  os.makedirs(save_path)\n",
        "\n",
        "filesize = int(requests.head(file_url).headers[\"Content-Length\"])\n",
        "chunk_size = 1024\n",
        "\n",
        "with requests.get(file_url, stream=True) as r, open(save_path + local_filename, \"wb\") as f, tqdm(\n",
        "        unit=\"B\",  # unit string to be displayed.\n",
        "        unit_scale=True,  # let tqdm to determine the scale in kilo, mega..etc.\n",
        "        unit_divisor=1024,  # is used when unit_scale is true\n",
        "        total=filesize,  # the total iteration.\n",
        "        file=sys.stdout,  # default goes to stderr, this is the display on console.\n",
        "        desc=local_filename  # prefix to be displayed on progress bar.\n",
        ") as progress:\n",
        "  for chunk in r.iter_content(chunk_size=chunk_size):\n",
        "    # download the file chunk by chunk\n",
        "    datasize = f.write(chunk)\n",
        "    # on each chunk update the progress bar.\n",
        "    progress.update(datasize)\n"
      ],
      "metadata": {
        "id": "XNFSl3Vxcj3N"
      },
      "execution_count": null,
      "outputs": []
    }
  ]
}